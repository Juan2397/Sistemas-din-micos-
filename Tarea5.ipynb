{
 "cells": [
  {
   "cell_type": "markdown",
   "metadata": {},
   "source": [
    "# Sistemas Dinámicos - Tarea 5\n",
    "> Gerardo de J. Becerra B.  \n",
    "> Facultad de Ingeniería, Pontificia Universidad Javeriana.  \n",
    "> Bogotá, Colombia.\n",
    "\n",
    ">Juan Manuel Gómez       \n",
    ">Mayo 6/2018"
   ]
  },
  {
   "cell_type": "markdown",
   "metadata": {},
   "source": [
    "## 1. Sistema de tanques no interactuantes:\n",
    "En la siguiente [figura](#tanquesnointer) se muestra un sistema de tanques no interactuantes."
   ]
  },
  {
   "cell_type": "markdown",
   "metadata": {},
   "source": [
    "<a name=\"tanquesnointer\"></a>![Tanques no interactuantes](2tanks_2valves_noninter.png)"
   ]
  },
  {
   "cell_type": "markdown",
   "metadata": {},
   "source": [
    "- Obtenga el modelo matemático del sistema, considerando como variables de estado $p_1$ y $p_2$.\n",
    "\n",
    "\\begin{equation}\n",
    "    \\dot{p}_1(t) = \\frac{1}{C_1}[w_i(t) - R_1 \\sqrt{p_1(t) - p_a}]\n",
    "\\end{equation}\n",
    "\n",
    "\\begin{equation}\n",
    "    \\dot{p}_2(t) = \\frac{1}{C_2}[R_1 \\sqrt{p_1(t) - p_a} - R_2 \\sqrt{p_2(t) - p_a}]\n",
    "\\end{equation}\n",
    "\n",
    "- Obtenga el modelo matemático del sistema, considerando como variables de estado $h_1$ y $h_2$.\n",
    "\n",
    "\\begin{equation}\n",
    "    \\dot{h}_1(t) = \\frac{1}{A_1}[w_i(t) - R_1 \\sqrt{ \\rho g h_1(t)}]\n",
    "\\end{equation}\n",
    "\n",
    "\\begin{equation}\n",
    "    \\dot{h}_2(t) = \\frac{1}{A_2}[R_1 \\sqrt{\\rho g h_1(t)} - R_2\\sqrt{\\rho g h_2(t)}]\n",
    "\\end{equation}\n",
    "\n",
    "- Obtenga la matriz de cambio de base que relaciona los dos modelos.\n",
    "\n",
    "Teniendo en cuenta la fórmula: \n",
    "\\begin{equation}\n",
    "    P = \\rho g h + P_a\n",
    "\\end{equation}\n",
    "\n",
    "La matriz de cambio de base sería:\n",
    "\n",
    "\\begin{equation}\n",
    "\\begin{bmatrix}\n",
    "    P_1\\\\ P_2 \\\\ \n",
    "\\end{bmatrix} = \n",
    "\\begin{bmatrix}\n",
    "    \\rho g & 0\\\\\n",
    "    0 & \\rho g\\\\\n",
    "\\end{bmatrix} \n",
    "\\begin{bmatrix}\n",
    "    h_1\\\\\n",
    "    h_2\\\\\n",
    "\\end{bmatrix} +\n",
    "\\begin{bmatrix}\n",
    "    1\\\\  \n",
    "    1\\\\\n",
    "\\end{bmatrix} P_a\n",
    "\\end{equation}\n",
    "\n"
   ]
  },
  {
   "cell_type": "markdown",
   "metadata": {},
   "source": [
    "## 2. Sistema de tanques interactuantes y bomba hidráulica:\n",
    "En la siguiente [figura](#tanquesbomba) se muestra un sistema de tanques interactuantes cuyo suministro está dado por una bomba hidráulica. Los tanques se encuentran interconectados por la válvula de característica $k_1$ y el flujo de salida se controla usando la válvula de característica $k_2$."
   ]
  },
  {
   "cell_type": "markdown",
   "metadata": {},
   "source": [
    "<a name=\"tanquesbomba\"></a>![title](pump_2tanks_2valves.png)"
   ]
  },
  {
   "cell_type": "markdown",
   "metadata": {},
   "source": [
    "- Formule el modelo matemático, asumiendo que la característica de la bomba corresponde a una función $w_i = a_2 \\Delta p^2 + a_1 \\Delta p + a_0$.\n",
    "\n",
    "\\begin{equation}\n",
    "    \\dot{p}_1(t) = \\frac{1}{C_1}\\left[a_2(p_1(t) - p_a)^2 + a_1(p_1(t) - p_a) + a_0 - k_1 \\sqrt{p_1(t) - p_2}\\right]\n",
    "\\end{equation} (1)\n",
    "\n",
    "\\begin{equation}\n",
    "    \\dot{p}_2(t) = \\frac{1}{C_2}[K_1 \\sqrt{p_1(t) - p_2} - K_2 \\sqrt{p_2(t) - p_a}]\n",
    "\\end{equation} (2)\n",
    "\n",
    "- Obtenga el punto de operación, asumiendo los siguientes valores para los parámetros: $A_1=2$, $A_2=3$, $\\rho=1000$, $k_1 = 3 \\times 10^{-5}$, $k_2 = 5 \\times 10^{-5}$, $p_a = 1.013 \\times 10^{5}$, $g = 9.807$, $w_p = -7.5 \\times 10^{-9} \\Delta p^2 + 5 \\times 10^{-7} \\Delta p + 1 \\times 10^{-3}$.\n",
    "\n",
    "- Simule la respuesta del sistema, usando Matlab.\n",
    "\n",
    "Para hallar el punto de operación es necesario igualar ambas derivadas $\\dot{p}_1(t)$ y $\\dot{p}_2(t)$ a cero y despejar $p_1$ y $p_2$\n",
    "\n",
    "Primero, utilizando la ecuación (2), se depeja $p_2$ en términos de $p_1$, así:\n",
    "\n",
    "\\begin{equation}\n",
    "    \\bar{p}_2 = \\frac{K_1^2 p_1 + K_2^2 p_a}{K_1^2 + K_2^2}\n",
    "\\end{equation} \n",
    "\n",
    "Luego, se reemplaza el resultado obtenido anteriormente en la ecuación (1), así:\n",
    "\n",
    "\\begin{equation}\n",
    "   0 = \\frac{1}{C_1}\\left[a_2(p_1(t) - p_a)^2 + a_1(p_1(t) - p_a) + a_0 - k_1 \\sqrt{p_1(t) - \\frac{K_1^2 p_1 + K_2^2 p_a}{K_1^2 + K_2^2}}\\right]\n",
    "\\end{equation}\n",
    "\n",
    "Luego se utiliza la función fsolve para encontrar $\\dot{p}_1(t)$"
   ]
  },
  {
   "cell_type": "code",
   "execution_count": 13,
   "metadata": {},
   "outputs": [],
   "source": [
    "import math\n",
    "import numpy as np\n",
    "%matplotlib inline\n",
    "import matplotlib.pyplot as plt\n",
    "import matplotlib\n",
    "matplotlib.rcParams['lines.linewidth'] = 3\n",
    "matplotlib.rcParams['font.size'] = 13\n",
    "matplotlib.rcParams['lines.markersize'] = 5\n",
    "matplotlib.rcParams['figure.figsize'] = (14, 9)\n",
    "matplotlib.rc('text', usetex=True)\n",
    "matplotlib.rc('axes', grid = False, labelsize=14, titlesize=16, ymargin=0.05)\n",
    "matplotlib.rc('legend', numpoints=1, fontsize=11)"
   ]
  },
  {
   "cell_type": "code",
   "execution_count": 14,
   "metadata": {},
   "outputs": [],
   "source": [
    "from scipy.optimize import fsolve\n",
    "A1 = 2\n",
    "rho = 1000\n",
    "k1 = 3e-5\n",
    "k2 = 5e-5\n",
    "pa = 1.013e5\n",
    "g = 9.807\n",
    "a2 = -7.5e-9\n",
    "a1 = 5e-7\n",
    "a0 = 1e-3\n",
    "func = lambda p1 : (rho*g/A1)*(a2*(p1-pa)**2 + a1*(p1-pa) + a0 - k1*np.sqrt(p1-(((k1**2)*p1 + ((k2**2)*pa)/(k1**2 + k2**2)))))"
   ]
  },
  {
   "cell_type": "code",
   "execution_count": 15,
   "metadata": {},
   "outputs": [
    {
     "ename": "FileNotFoundError",
     "evalue": "[WinError 2] El sistema no puede encontrar el archivo especificado",
     "output_type": "error",
     "traceback": [
      "\u001b[1;31m---------------------------------------------------------------------------\u001b[0m",
      "\u001b[1;31mFileNotFoundError\u001b[0m                         Traceback (most recent call last)",
      "\u001b[1;32mC:\\Users\\juanm\\Anaconda3\\lib\\site-packages\\IPython\\core\\formatters.py\u001b[0m in \u001b[0;36m__call__\u001b[1;34m(self, obj)\u001b[0m\n\u001b[0;32m    339\u001b[0m                 \u001b[1;32mpass\u001b[0m\u001b[1;33m\u001b[0m\u001b[0m\n\u001b[0;32m    340\u001b[0m             \u001b[1;32melse\u001b[0m\u001b[1;33m:\u001b[0m\u001b[1;33m\u001b[0m\u001b[0m\n\u001b[1;32m--> 341\u001b[1;33m                 \u001b[1;32mreturn\u001b[0m \u001b[0mprinter\u001b[0m\u001b[1;33m(\u001b[0m\u001b[0mobj\u001b[0m\u001b[1;33m)\u001b[0m\u001b[1;33m\u001b[0m\u001b[0m\n\u001b[0m\u001b[0;32m    342\u001b[0m             \u001b[1;31m# Finally look for special method names\u001b[0m\u001b[1;33m\u001b[0m\u001b[1;33m\u001b[0m\u001b[0m\n\u001b[0;32m    343\u001b[0m             \u001b[0mmethod\u001b[0m \u001b[1;33m=\u001b[0m \u001b[0mget_real_method\u001b[0m\u001b[1;33m(\u001b[0m\u001b[0mobj\u001b[0m\u001b[1;33m,\u001b[0m \u001b[0mself\u001b[0m\u001b[1;33m.\u001b[0m\u001b[0mprint_method\u001b[0m\u001b[1;33m)\u001b[0m\u001b[1;33m\u001b[0m\u001b[0m\n",
      "\u001b[1;32mC:\\Users\\juanm\\Anaconda3\\lib\\site-packages\\IPython\\core\\pylabtools.py\u001b[0m in \u001b[0;36m<lambda>\u001b[1;34m(fig)\u001b[0m\n\u001b[0;32m    236\u001b[0m \u001b[1;33m\u001b[0m\u001b[0m\n\u001b[0;32m    237\u001b[0m     \u001b[1;32mif\u001b[0m \u001b[1;34m'png'\u001b[0m \u001b[1;32min\u001b[0m \u001b[0mformats\u001b[0m\u001b[1;33m:\u001b[0m\u001b[1;33m\u001b[0m\u001b[0m\n\u001b[1;32m--> 238\u001b[1;33m         \u001b[0mpng_formatter\u001b[0m\u001b[1;33m.\u001b[0m\u001b[0mfor_type\u001b[0m\u001b[1;33m(\u001b[0m\u001b[0mFigure\u001b[0m\u001b[1;33m,\u001b[0m \u001b[1;32mlambda\u001b[0m \u001b[0mfig\u001b[0m\u001b[1;33m:\u001b[0m \u001b[0mprint_figure\u001b[0m\u001b[1;33m(\u001b[0m\u001b[0mfig\u001b[0m\u001b[1;33m,\u001b[0m \u001b[1;34m'png'\u001b[0m\u001b[1;33m,\u001b[0m \u001b[1;33m**\u001b[0m\u001b[0mkwargs\u001b[0m\u001b[1;33m)\u001b[0m\u001b[1;33m)\u001b[0m\u001b[1;33m\u001b[0m\u001b[0m\n\u001b[0m\u001b[0;32m    239\u001b[0m     \u001b[1;32mif\u001b[0m \u001b[1;34m'retina'\u001b[0m \u001b[1;32min\u001b[0m \u001b[0mformats\u001b[0m \u001b[1;32mor\u001b[0m \u001b[1;34m'png2x'\u001b[0m \u001b[1;32min\u001b[0m \u001b[0mformats\u001b[0m\u001b[1;33m:\u001b[0m\u001b[1;33m\u001b[0m\u001b[0m\n\u001b[0;32m    240\u001b[0m         \u001b[0mpng_formatter\u001b[0m\u001b[1;33m.\u001b[0m\u001b[0mfor_type\u001b[0m\u001b[1;33m(\u001b[0m\u001b[0mFigure\u001b[0m\u001b[1;33m,\u001b[0m \u001b[1;32mlambda\u001b[0m \u001b[0mfig\u001b[0m\u001b[1;33m:\u001b[0m \u001b[0mretina_figure\u001b[0m\u001b[1;33m(\u001b[0m\u001b[0mfig\u001b[0m\u001b[1;33m,\u001b[0m \u001b[1;33m**\u001b[0m\u001b[0mkwargs\u001b[0m\u001b[1;33m)\u001b[0m\u001b[1;33m)\u001b[0m\u001b[1;33m\u001b[0m\u001b[0m\n",
      "\u001b[1;32mC:\\Users\\juanm\\Anaconda3\\lib\\site-packages\\IPython\\core\\pylabtools.py\u001b[0m in \u001b[0;36mprint_figure\u001b[1;34m(fig, fmt, bbox_inches, **kwargs)\u001b[0m\n\u001b[0;32m    120\u001b[0m \u001b[1;33m\u001b[0m\u001b[0m\n\u001b[0;32m    121\u001b[0m     \u001b[0mbytes_io\u001b[0m \u001b[1;33m=\u001b[0m \u001b[0mBytesIO\u001b[0m\u001b[1;33m(\u001b[0m\u001b[1;33m)\u001b[0m\u001b[1;33m\u001b[0m\u001b[0m\n\u001b[1;32m--> 122\u001b[1;33m     \u001b[0mfig\u001b[0m\u001b[1;33m.\u001b[0m\u001b[0mcanvas\u001b[0m\u001b[1;33m.\u001b[0m\u001b[0mprint_figure\u001b[0m\u001b[1;33m(\u001b[0m\u001b[0mbytes_io\u001b[0m\u001b[1;33m,\u001b[0m \u001b[1;33m**\u001b[0m\u001b[0mkw\u001b[0m\u001b[1;33m)\u001b[0m\u001b[1;33m\u001b[0m\u001b[0m\n\u001b[0m\u001b[0;32m    123\u001b[0m     \u001b[0mdata\u001b[0m \u001b[1;33m=\u001b[0m \u001b[0mbytes_io\u001b[0m\u001b[1;33m.\u001b[0m\u001b[0mgetvalue\u001b[0m\u001b[1;33m(\u001b[0m\u001b[1;33m)\u001b[0m\u001b[1;33m\u001b[0m\u001b[0m\n\u001b[0;32m    124\u001b[0m     \u001b[1;32mif\u001b[0m \u001b[0mfmt\u001b[0m \u001b[1;33m==\u001b[0m \u001b[1;34m'svg'\u001b[0m\u001b[1;33m:\u001b[0m\u001b[1;33m\u001b[0m\u001b[0m\n",
      "\u001b[1;32mC:\\Users\\juanm\\Anaconda3\\lib\\site-packages\\matplotlib\\backend_bases.py\u001b[0m in \u001b[0;36mprint_figure\u001b[1;34m(self, filename, dpi, facecolor, edgecolor, orientation, format, **kwargs)\u001b[0m\n\u001b[0;32m   2214\u001b[0m                     \u001b[0morientation\u001b[0m\u001b[1;33m=\u001b[0m\u001b[0morientation\u001b[0m\u001b[1;33m,\u001b[0m\u001b[1;33m\u001b[0m\u001b[0m\n\u001b[0;32m   2215\u001b[0m                     \u001b[0mdryrun\u001b[0m\u001b[1;33m=\u001b[0m\u001b[1;32mTrue\u001b[0m\u001b[1;33m,\u001b[0m\u001b[1;33m\u001b[0m\u001b[0m\n\u001b[1;32m-> 2216\u001b[1;33m                     **kwargs)\n\u001b[0m\u001b[0;32m   2217\u001b[0m                 \u001b[0mrenderer\u001b[0m \u001b[1;33m=\u001b[0m \u001b[0mself\u001b[0m\u001b[1;33m.\u001b[0m\u001b[0mfigure\u001b[0m\u001b[1;33m.\u001b[0m\u001b[0m_cachedRenderer\u001b[0m\u001b[1;33m\u001b[0m\u001b[0m\n\u001b[0;32m   2218\u001b[0m                 \u001b[0mbbox_inches\u001b[0m \u001b[1;33m=\u001b[0m \u001b[0mself\u001b[0m\u001b[1;33m.\u001b[0m\u001b[0mfigure\u001b[0m\u001b[1;33m.\u001b[0m\u001b[0mget_tightbbox\u001b[0m\u001b[1;33m(\u001b[0m\u001b[0mrenderer\u001b[0m\u001b[1;33m)\u001b[0m\u001b[1;33m\u001b[0m\u001b[0m\n",
      "\u001b[1;32mC:\\Users\\juanm\\Anaconda3\\lib\\site-packages\\matplotlib\\backends\\backend_agg.py\u001b[0m in \u001b[0;36mprint_png\u001b[1;34m(self, filename_or_obj, *args, **kwargs)\u001b[0m\n\u001b[0;32m    505\u001b[0m \u001b[1;33m\u001b[0m\u001b[0m\n\u001b[0;32m    506\u001b[0m     \u001b[1;32mdef\u001b[0m \u001b[0mprint_png\u001b[0m\u001b[1;33m(\u001b[0m\u001b[0mself\u001b[0m\u001b[1;33m,\u001b[0m \u001b[0mfilename_or_obj\u001b[0m\u001b[1;33m,\u001b[0m \u001b[1;33m*\u001b[0m\u001b[0margs\u001b[0m\u001b[1;33m,\u001b[0m \u001b[1;33m**\u001b[0m\u001b[0mkwargs\u001b[0m\u001b[1;33m)\u001b[0m\u001b[1;33m:\u001b[0m\u001b[1;33m\u001b[0m\u001b[0m\n\u001b[1;32m--> 507\u001b[1;33m         \u001b[0mFigureCanvasAgg\u001b[0m\u001b[1;33m.\u001b[0m\u001b[0mdraw\u001b[0m\u001b[1;33m(\u001b[0m\u001b[0mself\u001b[0m\u001b[1;33m)\u001b[0m\u001b[1;33m\u001b[0m\u001b[0m\n\u001b[0m\u001b[0;32m    508\u001b[0m         \u001b[0mrenderer\u001b[0m \u001b[1;33m=\u001b[0m \u001b[0mself\u001b[0m\u001b[1;33m.\u001b[0m\u001b[0mget_renderer\u001b[0m\u001b[1;33m(\u001b[0m\u001b[1;33m)\u001b[0m\u001b[1;33m\u001b[0m\u001b[0m\n\u001b[0;32m    509\u001b[0m         \u001b[0moriginal_dpi\u001b[0m \u001b[1;33m=\u001b[0m \u001b[0mrenderer\u001b[0m\u001b[1;33m.\u001b[0m\u001b[0mdpi\u001b[0m\u001b[1;33m\u001b[0m\u001b[0m\n",
      "\u001b[1;32mC:\\Users\\juanm\\Anaconda3\\lib\\site-packages\\matplotlib\\backends\\backend_agg.py\u001b[0m in \u001b[0;36mdraw\u001b[1;34m(self)\u001b[0m\n\u001b[0;32m    428\u001b[0m             \u001b[1;31m# if toolbar:\u001b[0m\u001b[1;33m\u001b[0m\u001b[1;33m\u001b[0m\u001b[0m\n\u001b[0;32m    429\u001b[0m             \u001b[1;31m#     toolbar.set_cursor(cursors.WAIT)\u001b[0m\u001b[1;33m\u001b[0m\u001b[1;33m\u001b[0m\u001b[0m\n\u001b[1;32m--> 430\u001b[1;33m             \u001b[0mself\u001b[0m\u001b[1;33m.\u001b[0m\u001b[0mfigure\u001b[0m\u001b[1;33m.\u001b[0m\u001b[0mdraw\u001b[0m\u001b[1;33m(\u001b[0m\u001b[0mself\u001b[0m\u001b[1;33m.\u001b[0m\u001b[0mrenderer\u001b[0m\u001b[1;33m)\u001b[0m\u001b[1;33m\u001b[0m\u001b[0m\n\u001b[0m\u001b[0;32m    431\u001b[0m         \u001b[1;32mfinally\u001b[0m\u001b[1;33m:\u001b[0m\u001b[1;33m\u001b[0m\u001b[0m\n\u001b[0;32m    432\u001b[0m             \u001b[1;31m# if toolbar:\u001b[0m\u001b[1;33m\u001b[0m\u001b[1;33m\u001b[0m\u001b[0m\n",
      "\u001b[1;32mC:\\Users\\juanm\\Anaconda3\\lib\\site-packages\\matplotlib\\artist.py\u001b[0m in \u001b[0;36mdraw_wrapper\u001b[1;34m(artist, renderer, *args, **kwargs)\u001b[0m\n\u001b[0;32m     53\u001b[0m                 \u001b[0mrenderer\u001b[0m\u001b[1;33m.\u001b[0m\u001b[0mstart_filter\u001b[0m\u001b[1;33m(\u001b[0m\u001b[1;33m)\u001b[0m\u001b[1;33m\u001b[0m\u001b[0m\n\u001b[0;32m     54\u001b[0m \u001b[1;33m\u001b[0m\u001b[0m\n\u001b[1;32m---> 55\u001b[1;33m             \u001b[1;32mreturn\u001b[0m \u001b[0mdraw\u001b[0m\u001b[1;33m(\u001b[0m\u001b[0martist\u001b[0m\u001b[1;33m,\u001b[0m \u001b[0mrenderer\u001b[0m\u001b[1;33m,\u001b[0m \u001b[1;33m*\u001b[0m\u001b[0margs\u001b[0m\u001b[1;33m,\u001b[0m \u001b[1;33m**\u001b[0m\u001b[0mkwargs\u001b[0m\u001b[1;33m)\u001b[0m\u001b[1;33m\u001b[0m\u001b[0m\n\u001b[0m\u001b[0;32m     56\u001b[0m         \u001b[1;32mfinally\u001b[0m\u001b[1;33m:\u001b[0m\u001b[1;33m\u001b[0m\u001b[0m\n\u001b[0;32m     57\u001b[0m             \u001b[1;32mif\u001b[0m \u001b[0martist\u001b[0m\u001b[1;33m.\u001b[0m\u001b[0mget_agg_filter\u001b[0m\u001b[1;33m(\u001b[0m\u001b[1;33m)\u001b[0m \u001b[1;32mis\u001b[0m \u001b[1;32mnot\u001b[0m \u001b[1;32mNone\u001b[0m\u001b[1;33m:\u001b[0m\u001b[1;33m\u001b[0m\u001b[0m\n",
      "\u001b[1;32mC:\\Users\\juanm\\Anaconda3\\lib\\site-packages\\matplotlib\\figure.py\u001b[0m in \u001b[0;36mdraw\u001b[1;34m(self, renderer)\u001b[0m\n\u001b[0;32m   1297\u001b[0m \u001b[1;33m\u001b[0m\u001b[0m\n\u001b[0;32m   1298\u001b[0m             mimage._draw_list_compositing_images(\n\u001b[1;32m-> 1299\u001b[1;33m                 renderer, self, artists, self.suppressComposite)\n\u001b[0m\u001b[0;32m   1300\u001b[0m \u001b[1;33m\u001b[0m\u001b[0m\n\u001b[0;32m   1301\u001b[0m             \u001b[0mrenderer\u001b[0m\u001b[1;33m.\u001b[0m\u001b[0mclose_group\u001b[0m\u001b[1;33m(\u001b[0m\u001b[1;34m'figure'\u001b[0m\u001b[1;33m)\u001b[0m\u001b[1;33m\u001b[0m\u001b[0m\n",
      "\u001b[1;32mC:\\Users\\juanm\\Anaconda3\\lib\\site-packages\\matplotlib\\image.py\u001b[0m in \u001b[0;36m_draw_list_compositing_images\u001b[1;34m(renderer, parent, artists, suppress_composite)\u001b[0m\n\u001b[0;32m    136\u001b[0m     \u001b[1;32mif\u001b[0m \u001b[0mnot_composite\u001b[0m \u001b[1;32mor\u001b[0m \u001b[1;32mnot\u001b[0m \u001b[0mhas_images\u001b[0m\u001b[1;33m:\u001b[0m\u001b[1;33m\u001b[0m\u001b[0m\n\u001b[0;32m    137\u001b[0m         \u001b[1;32mfor\u001b[0m \u001b[0ma\u001b[0m \u001b[1;32min\u001b[0m \u001b[0martists\u001b[0m\u001b[1;33m:\u001b[0m\u001b[1;33m\u001b[0m\u001b[0m\n\u001b[1;32m--> 138\u001b[1;33m             \u001b[0ma\u001b[0m\u001b[1;33m.\u001b[0m\u001b[0mdraw\u001b[0m\u001b[1;33m(\u001b[0m\u001b[0mrenderer\u001b[0m\u001b[1;33m)\u001b[0m\u001b[1;33m\u001b[0m\u001b[0m\n\u001b[0m\u001b[0;32m    139\u001b[0m     \u001b[1;32melse\u001b[0m\u001b[1;33m:\u001b[0m\u001b[1;33m\u001b[0m\u001b[0m\n\u001b[0;32m    140\u001b[0m         \u001b[1;31m# Composite any adjacent images together\u001b[0m\u001b[1;33m\u001b[0m\u001b[1;33m\u001b[0m\u001b[0m\n",
      "\u001b[1;32mC:\\Users\\juanm\\Anaconda3\\lib\\site-packages\\matplotlib\\artist.py\u001b[0m in \u001b[0;36mdraw_wrapper\u001b[1;34m(artist, renderer, *args, **kwargs)\u001b[0m\n\u001b[0;32m     53\u001b[0m                 \u001b[0mrenderer\u001b[0m\u001b[1;33m.\u001b[0m\u001b[0mstart_filter\u001b[0m\u001b[1;33m(\u001b[0m\u001b[1;33m)\u001b[0m\u001b[1;33m\u001b[0m\u001b[0m\n\u001b[0;32m     54\u001b[0m \u001b[1;33m\u001b[0m\u001b[0m\n\u001b[1;32m---> 55\u001b[1;33m             \u001b[1;32mreturn\u001b[0m \u001b[0mdraw\u001b[0m\u001b[1;33m(\u001b[0m\u001b[0martist\u001b[0m\u001b[1;33m,\u001b[0m \u001b[0mrenderer\u001b[0m\u001b[1;33m,\u001b[0m \u001b[1;33m*\u001b[0m\u001b[0margs\u001b[0m\u001b[1;33m,\u001b[0m \u001b[1;33m**\u001b[0m\u001b[0mkwargs\u001b[0m\u001b[1;33m)\u001b[0m\u001b[1;33m\u001b[0m\u001b[0m\n\u001b[0m\u001b[0;32m     56\u001b[0m         \u001b[1;32mfinally\u001b[0m\u001b[1;33m:\u001b[0m\u001b[1;33m\u001b[0m\u001b[0m\n\u001b[0;32m     57\u001b[0m             \u001b[1;32mif\u001b[0m \u001b[0martist\u001b[0m\u001b[1;33m.\u001b[0m\u001b[0mget_agg_filter\u001b[0m\u001b[1;33m(\u001b[0m\u001b[1;33m)\u001b[0m \u001b[1;32mis\u001b[0m \u001b[1;32mnot\u001b[0m \u001b[1;32mNone\u001b[0m\u001b[1;33m:\u001b[0m\u001b[1;33m\u001b[0m\u001b[0m\n",
      "\u001b[1;32mC:\\Users\\juanm\\Anaconda3\\lib\\site-packages\\matplotlib\\axes\\_base.py\u001b[0m in \u001b[0;36mdraw\u001b[1;34m(self, renderer, inframe)\u001b[0m\n\u001b[0;32m   2435\u001b[0m             \u001b[0mrenderer\u001b[0m\u001b[1;33m.\u001b[0m\u001b[0mstop_rasterizing\u001b[0m\u001b[1;33m(\u001b[0m\u001b[1;33m)\u001b[0m\u001b[1;33m\u001b[0m\u001b[0m\n\u001b[0;32m   2436\u001b[0m \u001b[1;33m\u001b[0m\u001b[0m\n\u001b[1;32m-> 2437\u001b[1;33m         \u001b[0mmimage\u001b[0m\u001b[1;33m.\u001b[0m\u001b[0m_draw_list_compositing_images\u001b[0m\u001b[1;33m(\u001b[0m\u001b[0mrenderer\u001b[0m\u001b[1;33m,\u001b[0m \u001b[0mself\u001b[0m\u001b[1;33m,\u001b[0m \u001b[0martists\u001b[0m\u001b[1;33m)\u001b[0m\u001b[1;33m\u001b[0m\u001b[0m\n\u001b[0m\u001b[0;32m   2438\u001b[0m \u001b[1;33m\u001b[0m\u001b[0m\n\u001b[0;32m   2439\u001b[0m         \u001b[0mrenderer\u001b[0m\u001b[1;33m.\u001b[0m\u001b[0mclose_group\u001b[0m\u001b[1;33m(\u001b[0m\u001b[1;34m'axes'\u001b[0m\u001b[1;33m)\u001b[0m\u001b[1;33m\u001b[0m\u001b[0m\n",
      "\u001b[1;32mC:\\Users\\juanm\\Anaconda3\\lib\\site-packages\\matplotlib\\image.py\u001b[0m in \u001b[0;36m_draw_list_compositing_images\u001b[1;34m(renderer, parent, artists, suppress_composite)\u001b[0m\n\u001b[0;32m    136\u001b[0m     \u001b[1;32mif\u001b[0m \u001b[0mnot_composite\u001b[0m \u001b[1;32mor\u001b[0m \u001b[1;32mnot\u001b[0m \u001b[0mhas_images\u001b[0m\u001b[1;33m:\u001b[0m\u001b[1;33m\u001b[0m\u001b[0m\n\u001b[0;32m    137\u001b[0m         \u001b[1;32mfor\u001b[0m \u001b[0ma\u001b[0m \u001b[1;32min\u001b[0m \u001b[0martists\u001b[0m\u001b[1;33m:\u001b[0m\u001b[1;33m\u001b[0m\u001b[0m\n\u001b[1;32m--> 138\u001b[1;33m             \u001b[0ma\u001b[0m\u001b[1;33m.\u001b[0m\u001b[0mdraw\u001b[0m\u001b[1;33m(\u001b[0m\u001b[0mrenderer\u001b[0m\u001b[1;33m)\u001b[0m\u001b[1;33m\u001b[0m\u001b[0m\n\u001b[0m\u001b[0;32m    139\u001b[0m     \u001b[1;32melse\u001b[0m\u001b[1;33m:\u001b[0m\u001b[1;33m\u001b[0m\u001b[0m\n\u001b[0;32m    140\u001b[0m         \u001b[1;31m# Composite any adjacent images together\u001b[0m\u001b[1;33m\u001b[0m\u001b[1;33m\u001b[0m\u001b[0m\n",
      "\u001b[1;32mC:\\Users\\juanm\\Anaconda3\\lib\\site-packages\\matplotlib\\artist.py\u001b[0m in \u001b[0;36mdraw_wrapper\u001b[1;34m(artist, renderer, *args, **kwargs)\u001b[0m\n\u001b[0;32m     53\u001b[0m                 \u001b[0mrenderer\u001b[0m\u001b[1;33m.\u001b[0m\u001b[0mstart_filter\u001b[0m\u001b[1;33m(\u001b[0m\u001b[1;33m)\u001b[0m\u001b[1;33m\u001b[0m\u001b[0m\n\u001b[0;32m     54\u001b[0m \u001b[1;33m\u001b[0m\u001b[0m\n\u001b[1;32m---> 55\u001b[1;33m             \u001b[1;32mreturn\u001b[0m \u001b[0mdraw\u001b[0m\u001b[1;33m(\u001b[0m\u001b[0martist\u001b[0m\u001b[1;33m,\u001b[0m \u001b[0mrenderer\u001b[0m\u001b[1;33m,\u001b[0m \u001b[1;33m*\u001b[0m\u001b[0margs\u001b[0m\u001b[1;33m,\u001b[0m \u001b[1;33m**\u001b[0m\u001b[0mkwargs\u001b[0m\u001b[1;33m)\u001b[0m\u001b[1;33m\u001b[0m\u001b[0m\n\u001b[0m\u001b[0;32m     56\u001b[0m         \u001b[1;32mfinally\u001b[0m\u001b[1;33m:\u001b[0m\u001b[1;33m\u001b[0m\u001b[0m\n\u001b[0;32m     57\u001b[0m             \u001b[1;32mif\u001b[0m \u001b[0martist\u001b[0m\u001b[1;33m.\u001b[0m\u001b[0mget_agg_filter\u001b[0m\u001b[1;33m(\u001b[0m\u001b[1;33m)\u001b[0m \u001b[1;32mis\u001b[0m \u001b[1;32mnot\u001b[0m \u001b[1;32mNone\u001b[0m\u001b[1;33m:\u001b[0m\u001b[1;33m\u001b[0m\u001b[0m\n",
      "\u001b[1;32mC:\\Users\\juanm\\Anaconda3\\lib\\site-packages\\matplotlib\\axis.py\u001b[0m in \u001b[0;36mdraw\u001b[1;34m(self, renderer, *args, **kwargs)\u001b[0m\n\u001b[0;32m   1133\u001b[0m         \u001b[0mticks_to_draw\u001b[0m \u001b[1;33m=\u001b[0m \u001b[0mself\u001b[0m\u001b[1;33m.\u001b[0m\u001b[0m_update_ticks\u001b[0m\u001b[1;33m(\u001b[0m\u001b[0mrenderer\u001b[0m\u001b[1;33m)\u001b[0m\u001b[1;33m\u001b[0m\u001b[0m\n\u001b[0;32m   1134\u001b[0m         ticklabelBoxes, ticklabelBoxes2 = self._get_tick_bboxes(ticks_to_draw,\n\u001b[1;32m-> 1135\u001b[1;33m                                                                 renderer)\n\u001b[0m\u001b[0;32m   1136\u001b[0m \u001b[1;33m\u001b[0m\u001b[0m\n\u001b[0;32m   1137\u001b[0m         \u001b[1;32mfor\u001b[0m \u001b[0mtick\u001b[0m \u001b[1;32min\u001b[0m \u001b[0mticks_to_draw\u001b[0m\u001b[1;33m:\u001b[0m\u001b[1;33m\u001b[0m\u001b[0m\n",
      "\u001b[1;32mC:\\Users\\juanm\\Anaconda3\\lib\\site-packages\\matplotlib\\axis.py\u001b[0m in \u001b[0;36m_get_tick_bboxes\u001b[1;34m(self, ticks, renderer)\u001b[0m\n\u001b[0;32m   1073\u001b[0m         \u001b[1;32mfor\u001b[0m \u001b[0mtick\u001b[0m \u001b[1;32min\u001b[0m \u001b[0mticks\u001b[0m\u001b[1;33m:\u001b[0m\u001b[1;33m\u001b[0m\u001b[0m\n\u001b[0;32m   1074\u001b[0m             \u001b[1;32mif\u001b[0m \u001b[0mtick\u001b[0m\u001b[1;33m.\u001b[0m\u001b[0mlabel1On\u001b[0m \u001b[1;32mand\u001b[0m \u001b[0mtick\u001b[0m\u001b[1;33m.\u001b[0m\u001b[0mlabel1\u001b[0m\u001b[1;33m.\u001b[0m\u001b[0mget_visible\u001b[0m\u001b[1;33m(\u001b[0m\u001b[1;33m)\u001b[0m\u001b[1;33m:\u001b[0m\u001b[1;33m\u001b[0m\u001b[0m\n\u001b[1;32m-> 1075\u001b[1;33m                 \u001b[0mextent\u001b[0m \u001b[1;33m=\u001b[0m \u001b[0mtick\u001b[0m\u001b[1;33m.\u001b[0m\u001b[0mlabel1\u001b[0m\u001b[1;33m.\u001b[0m\u001b[0mget_window_extent\u001b[0m\u001b[1;33m(\u001b[0m\u001b[0mrenderer\u001b[0m\u001b[1;33m)\u001b[0m\u001b[1;33m\u001b[0m\u001b[0m\n\u001b[0m\u001b[0;32m   1076\u001b[0m                 \u001b[0mticklabelBoxes\u001b[0m\u001b[1;33m.\u001b[0m\u001b[0mappend\u001b[0m\u001b[1;33m(\u001b[0m\u001b[0mextent\u001b[0m\u001b[1;33m)\u001b[0m\u001b[1;33m\u001b[0m\u001b[0m\n\u001b[0;32m   1077\u001b[0m             \u001b[1;32mif\u001b[0m \u001b[0mtick\u001b[0m\u001b[1;33m.\u001b[0m\u001b[0mlabel2On\u001b[0m \u001b[1;32mand\u001b[0m \u001b[0mtick\u001b[0m\u001b[1;33m.\u001b[0m\u001b[0mlabel2\u001b[0m\u001b[1;33m.\u001b[0m\u001b[0mget_visible\u001b[0m\u001b[1;33m(\u001b[0m\u001b[1;33m)\u001b[0m\u001b[1;33m:\u001b[0m\u001b[1;33m\u001b[0m\u001b[0m\n",
      "\u001b[1;32mC:\\Users\\juanm\\Anaconda3\\lib\\site-packages\\matplotlib\\text.py\u001b[0m in \u001b[0;36mget_window_extent\u001b[1;34m(self, renderer, dpi)\u001b[0m\n\u001b[0;32m    931\u001b[0m             \u001b[1;32mraise\u001b[0m \u001b[0mRuntimeError\u001b[0m\u001b[1;33m(\u001b[0m\u001b[1;34m'Cannot get window extent w/o renderer'\u001b[0m\u001b[1;33m)\u001b[0m\u001b[1;33m\u001b[0m\u001b[0m\n\u001b[0;32m    932\u001b[0m \u001b[1;33m\u001b[0m\u001b[0m\n\u001b[1;32m--> 933\u001b[1;33m         \u001b[0mbbox\u001b[0m\u001b[1;33m,\u001b[0m \u001b[0minfo\u001b[0m\u001b[1;33m,\u001b[0m \u001b[0mdescent\u001b[0m \u001b[1;33m=\u001b[0m \u001b[0mself\u001b[0m\u001b[1;33m.\u001b[0m\u001b[0m_get_layout\u001b[0m\u001b[1;33m(\u001b[0m\u001b[0mself\u001b[0m\u001b[1;33m.\u001b[0m\u001b[0m_renderer\u001b[0m\u001b[1;33m)\u001b[0m\u001b[1;33m\u001b[0m\u001b[0m\n\u001b[0m\u001b[0;32m    934\u001b[0m         \u001b[0mx\u001b[0m\u001b[1;33m,\u001b[0m \u001b[0my\u001b[0m \u001b[1;33m=\u001b[0m \u001b[0mself\u001b[0m\u001b[1;33m.\u001b[0m\u001b[0mget_unitless_position\u001b[0m\u001b[1;33m(\u001b[0m\u001b[1;33m)\u001b[0m\u001b[1;33m\u001b[0m\u001b[0m\n\u001b[0;32m    935\u001b[0m         \u001b[0mx\u001b[0m\u001b[1;33m,\u001b[0m \u001b[0my\u001b[0m \u001b[1;33m=\u001b[0m \u001b[0mself\u001b[0m\u001b[1;33m.\u001b[0m\u001b[0mget_transform\u001b[0m\u001b[1;33m(\u001b[0m\u001b[1;33m)\u001b[0m\u001b[1;33m.\u001b[0m\u001b[0mtransform_point\u001b[0m\u001b[1;33m(\u001b[0m\u001b[1;33m(\u001b[0m\u001b[0mx\u001b[0m\u001b[1;33m,\u001b[0m \u001b[0my\u001b[0m\u001b[1;33m)\u001b[0m\u001b[1;33m)\u001b[0m\u001b[1;33m\u001b[0m\u001b[0m\n",
      "\u001b[1;32mC:\\Users\\juanm\\Anaconda3\\lib\\site-packages\\matplotlib\\text.py\u001b[0m in \u001b[0;36m_get_layout\u001b[1;34m(self, renderer)\u001b[0m\n\u001b[0;32m    306\u001b[0m         tmp, lp_h, lp_bl = renderer.get_text_width_height_descent('lp',\n\u001b[0;32m    307\u001b[0m                                                          \u001b[0mself\u001b[0m\u001b[1;33m.\u001b[0m\u001b[0m_fontproperties\u001b[0m\u001b[1;33m,\u001b[0m\u001b[1;33m\u001b[0m\u001b[0m\n\u001b[1;32m--> 308\u001b[1;33m                                                          ismath=False)\n\u001b[0m\u001b[0;32m    309\u001b[0m         \u001b[0moffsety\u001b[0m \u001b[1;33m=\u001b[0m \u001b[1;33m(\u001b[0m\u001b[0mlp_h\u001b[0m \u001b[1;33m-\u001b[0m \u001b[0mlp_bl\u001b[0m\u001b[1;33m)\u001b[0m \u001b[1;33m*\u001b[0m \u001b[0mself\u001b[0m\u001b[1;33m.\u001b[0m\u001b[0m_linespacing\u001b[0m\u001b[1;33m\u001b[0m\u001b[0m\n\u001b[0;32m    310\u001b[0m \u001b[1;33m\u001b[0m\u001b[0m\n",
      "\u001b[1;32mC:\\Users\\juanm\\Anaconda3\\lib\\site-packages\\matplotlib\\backends\\backend_agg.py\u001b[0m in \u001b[0;36mget_text_width_height_descent\u001b[1;34m(self, s, prop, ismath)\u001b[0m\n\u001b[0;32m    224\u001b[0m             \u001b[0mfontsize\u001b[0m \u001b[1;33m=\u001b[0m \u001b[0mprop\u001b[0m\u001b[1;33m.\u001b[0m\u001b[0mget_size_in_points\u001b[0m\u001b[1;33m(\u001b[0m\u001b[1;33m)\u001b[0m\u001b[1;33m\u001b[0m\u001b[0m\n\u001b[0;32m    225\u001b[0m             w, h, d = texmanager.get_text_width_height_descent(\n\u001b[1;32m--> 226\u001b[1;33m                 s, fontsize, renderer=self)\n\u001b[0m\u001b[0;32m    227\u001b[0m             \u001b[1;32mreturn\u001b[0m \u001b[0mw\u001b[0m\u001b[1;33m,\u001b[0m \u001b[0mh\u001b[0m\u001b[1;33m,\u001b[0m \u001b[0md\u001b[0m\u001b[1;33m\u001b[0m\u001b[0m\n\u001b[0;32m    228\u001b[0m \u001b[1;33m\u001b[0m\u001b[0m\n",
      "\u001b[1;32mC:\\Users\\juanm\\Anaconda3\\lib\\site-packages\\matplotlib\\texmanager.py\u001b[0m in \u001b[0;36mget_text_width_height_descent\u001b[1;34m(self, tex, fontsize, renderer)\u001b[0m\n\u001b[0;32m    600\u001b[0m         \u001b[1;32melse\u001b[0m\u001b[1;33m:\u001b[0m\u001b[1;33m\u001b[0m\u001b[0m\n\u001b[0;32m    601\u001b[0m             \u001b[1;31m# use dviread. It sometimes returns a wrong descent.\u001b[0m\u001b[1;33m\u001b[0m\u001b[1;33m\u001b[0m\u001b[0m\n\u001b[1;32m--> 602\u001b[1;33m             \u001b[0mdvifile\u001b[0m \u001b[1;33m=\u001b[0m \u001b[0mself\u001b[0m\u001b[1;33m.\u001b[0m\u001b[0mmake_dvi\u001b[0m\u001b[1;33m(\u001b[0m\u001b[0mtex\u001b[0m\u001b[1;33m,\u001b[0m \u001b[0mfontsize\u001b[0m\u001b[1;33m)\u001b[0m\u001b[1;33m\u001b[0m\u001b[0m\n\u001b[0m\u001b[0;32m    603\u001b[0m             \u001b[1;32mwith\u001b[0m \u001b[0mdviread\u001b[0m\u001b[1;33m.\u001b[0m\u001b[0mDvi\u001b[0m\u001b[1;33m(\u001b[0m\u001b[0mdvifile\u001b[0m\u001b[1;33m,\u001b[0m \u001b[1;36m72\u001b[0m \u001b[1;33m*\u001b[0m \u001b[0mdpi_fraction\u001b[0m\u001b[1;33m)\u001b[0m \u001b[1;32mas\u001b[0m \u001b[0mdvi\u001b[0m\u001b[1;33m:\u001b[0m\u001b[1;33m\u001b[0m\u001b[0m\n\u001b[0;32m    604\u001b[0m                 \u001b[0mpage\u001b[0m \u001b[1;33m=\u001b[0m \u001b[0mnext\u001b[0m\u001b[1;33m(\u001b[0m\u001b[0miter\u001b[0m\u001b[1;33m(\u001b[0m\u001b[0mdvi\u001b[0m\u001b[1;33m)\u001b[0m\u001b[1;33m)\u001b[0m\u001b[1;33m\u001b[0m\u001b[0m\n",
      "\u001b[1;32mC:\\Users\\juanm\\Anaconda3\\lib\\site-packages\\matplotlib\\texmanager.py\u001b[0m in \u001b[0;36mmake_dvi\u001b[1;34m(self, tex, fontsize)\u001b[0m\n\u001b[0;32m    391\u001b[0m                     report = subprocess.check_output(command,\n\u001b[0;32m    392\u001b[0m                                                      \u001b[0mcwd\u001b[0m\u001b[1;33m=\u001b[0m\u001b[0mself\u001b[0m\u001b[1;33m.\u001b[0m\u001b[0mtexcache\u001b[0m\u001b[1;33m,\u001b[0m\u001b[1;33m\u001b[0m\u001b[0m\n\u001b[1;32m--> 393\u001b[1;33m                                                      stderr=subprocess.STDOUT)\n\u001b[0m\u001b[0;32m    394\u001b[0m                 \u001b[1;32mexcept\u001b[0m \u001b[0msubprocess\u001b[0m\u001b[1;33m.\u001b[0m\u001b[0mCalledProcessError\u001b[0m \u001b[1;32mas\u001b[0m \u001b[0mexc\u001b[0m\u001b[1;33m:\u001b[0m\u001b[1;33m\u001b[0m\u001b[0m\n\u001b[0;32m    395\u001b[0m                     raise RuntimeError(\n",
      "\u001b[1;32mC:\\Users\\juanm\\Anaconda3\\lib\\subprocess.py\u001b[0m in \u001b[0;36mcheck_output\u001b[1;34m(timeout, *popenargs, **kwargs)\u001b[0m\n\u001b[0;32m    334\u001b[0m \u001b[1;33m\u001b[0m\u001b[0m\n\u001b[0;32m    335\u001b[0m     return run(*popenargs, stdout=PIPE, timeout=timeout, check=True,\n\u001b[1;32m--> 336\u001b[1;33m                **kwargs).stdout\n\u001b[0m\u001b[0;32m    337\u001b[0m \u001b[1;33m\u001b[0m\u001b[0m\n\u001b[0;32m    338\u001b[0m \u001b[1;33m\u001b[0m\u001b[0m\n",
      "\u001b[1;32mC:\\Users\\juanm\\Anaconda3\\lib\\subprocess.py\u001b[0m in \u001b[0;36mrun\u001b[1;34m(input, timeout, check, *popenargs, **kwargs)\u001b[0m\n\u001b[0;32m    401\u001b[0m         \u001b[0mkwargs\u001b[0m\u001b[1;33m[\u001b[0m\u001b[1;34m'stdin'\u001b[0m\u001b[1;33m]\u001b[0m \u001b[1;33m=\u001b[0m \u001b[0mPIPE\u001b[0m\u001b[1;33m\u001b[0m\u001b[0m\n\u001b[0;32m    402\u001b[0m \u001b[1;33m\u001b[0m\u001b[0m\n\u001b[1;32m--> 403\u001b[1;33m     \u001b[1;32mwith\u001b[0m \u001b[0mPopen\u001b[0m\u001b[1;33m(\u001b[0m\u001b[1;33m*\u001b[0m\u001b[0mpopenargs\u001b[0m\u001b[1;33m,\u001b[0m \u001b[1;33m**\u001b[0m\u001b[0mkwargs\u001b[0m\u001b[1;33m)\u001b[0m \u001b[1;32mas\u001b[0m \u001b[0mprocess\u001b[0m\u001b[1;33m:\u001b[0m\u001b[1;33m\u001b[0m\u001b[0m\n\u001b[0m\u001b[0;32m    404\u001b[0m         \u001b[1;32mtry\u001b[0m\u001b[1;33m:\u001b[0m\u001b[1;33m\u001b[0m\u001b[0m\n\u001b[0;32m    405\u001b[0m             \u001b[0mstdout\u001b[0m\u001b[1;33m,\u001b[0m \u001b[0mstderr\u001b[0m \u001b[1;33m=\u001b[0m \u001b[0mprocess\u001b[0m\u001b[1;33m.\u001b[0m\u001b[0mcommunicate\u001b[0m\u001b[1;33m(\u001b[0m\u001b[0minput\u001b[0m\u001b[1;33m,\u001b[0m \u001b[0mtimeout\u001b[0m\u001b[1;33m=\u001b[0m\u001b[0mtimeout\u001b[0m\u001b[1;33m)\u001b[0m\u001b[1;33m\u001b[0m\u001b[0m\n",
      "\u001b[1;32mC:\\Users\\juanm\\Anaconda3\\lib\\subprocess.py\u001b[0m in \u001b[0;36m__init__\u001b[1;34m(self, args, bufsize, executable, stdin, stdout, stderr, preexec_fn, close_fds, shell, cwd, env, universal_newlines, startupinfo, creationflags, restore_signals, start_new_session, pass_fds, encoding, errors)\u001b[0m\n\u001b[0;32m    707\u001b[0m                                 \u001b[0mc2pread\u001b[0m\u001b[1;33m,\u001b[0m \u001b[0mc2pwrite\u001b[0m\u001b[1;33m,\u001b[0m\u001b[1;33m\u001b[0m\u001b[0m\n\u001b[0;32m    708\u001b[0m                                 \u001b[0merrread\u001b[0m\u001b[1;33m,\u001b[0m \u001b[0merrwrite\u001b[0m\u001b[1;33m,\u001b[0m\u001b[1;33m\u001b[0m\u001b[0m\n\u001b[1;32m--> 709\u001b[1;33m                                 restore_signals, start_new_session)\n\u001b[0m\u001b[0;32m    710\u001b[0m         \u001b[1;32mexcept\u001b[0m\u001b[1;33m:\u001b[0m\u001b[1;33m\u001b[0m\u001b[0m\n\u001b[0;32m    711\u001b[0m             \u001b[1;31m# Cleanup if the child failed starting.\u001b[0m\u001b[1;33m\u001b[0m\u001b[1;33m\u001b[0m\u001b[0m\n",
      "\u001b[1;32mC:\\Users\\juanm\\Anaconda3\\lib\\subprocess.py\u001b[0m in \u001b[0;36m_execute_child\u001b[1;34m(self, args, executable, preexec_fn, close_fds, pass_fds, cwd, env, startupinfo, creationflags, shell, p2cread, p2cwrite, c2pread, c2pwrite, errread, errwrite, unused_restore_signals, unused_start_new_session)\u001b[0m\n\u001b[0;32m    995\u001b[0m                                          \u001b[0menv\u001b[0m\u001b[1;33m,\u001b[0m\u001b[1;33m\u001b[0m\u001b[0m\n\u001b[0;32m    996\u001b[0m                                          \u001b[0mos\u001b[0m\u001b[1;33m.\u001b[0m\u001b[0mfspath\u001b[0m\u001b[1;33m(\u001b[0m\u001b[0mcwd\u001b[0m\u001b[1;33m)\u001b[0m \u001b[1;32mif\u001b[0m \u001b[0mcwd\u001b[0m \u001b[1;32mis\u001b[0m \u001b[1;32mnot\u001b[0m \u001b[1;32mNone\u001b[0m \u001b[1;32melse\u001b[0m \u001b[1;32mNone\u001b[0m\u001b[1;33m,\u001b[0m\u001b[1;33m\u001b[0m\u001b[0m\n\u001b[1;32m--> 997\u001b[1;33m                                          startupinfo)\n\u001b[0m\u001b[0;32m    998\u001b[0m             \u001b[1;32mfinally\u001b[0m\u001b[1;33m:\u001b[0m\u001b[1;33m\u001b[0m\u001b[0m\n\u001b[0;32m    999\u001b[0m                 \u001b[1;31m# Child is launched. Close the parent's copy of those pipe\u001b[0m\u001b[1;33m\u001b[0m\u001b[1;33m\u001b[0m\u001b[0m\n",
      "\u001b[1;31mFileNotFoundError\u001b[0m: [WinError 2] El sistema no puede encontrar el archivo especificado"
     ]
    },
    {
     "data": {
      "text/plain": [
       "<matplotlib.figure.Figure at 0x23ec1a84240>"
      ]
     },
     "metadata": {},
     "output_type": "display_data"
    }
   ],
   "source": [
    "p1 = np.linspace(pa,pa+400,201)\n",
    "plt.plot(p1,func(p1))\n",
    "plt.xlabel(r\"$p_1$\",fontsize=20)\n",
    "plt.ylabel(r\"func\",fontsize=20)\n",
    "plt.grid()\n",
    "plt.show()"
   ]
  },
  {
   "cell_type": "markdown",
   "metadata": {},
   "source": [
    "## 3. Tanques lineal/no lineal interactuantes:\n",
    "La siguiente [figura](#tanquesinter) presenta un sistema formado por un tanque no lineal (TK1) y uno lineal (TK2), interconectados por una válvula (VA1) caracterizada por un coeficiente de flujo $C_v$. El líquido almacenado es agua."
   ]
  },
  {
   "cell_type": "markdown",
   "metadata": {},
   "source": [
    "<a name=\"tanquesinter\"></a>![tanquesinteractuantes](tanques_inter.svg)"
   ]
  },
  {
   "cell_type": "markdown",
   "metadata": {},
   "source": [
    "- Obtenga el área transversal $A_1$ del líquido en el tanque no lineal TK1 como función de su nivel $h_1$.\n",
    "\n",
    "\\begin{equation}\n",
    "    A_1(h_1) = L\\sqrt{2R_1h_1 - (h_1)^2}\n",
    "\\end{equation}\n",
    "\n",
    "\n",
    "- Escriba la ecuación que describe el flujo $q_v$ a través de la válvula VA1 en términos de su coeficiente de flujo $C_v$, de los niveles de los tanques $h_1$ y $h_2$, la densidad del fluido $\\rho$, la gravedad específica del agua $G_f$ y la constante gravitacional $g$.\n",
    "\n",
    "\\begin{equation}\n",
    "q_v = C_v \\sqrt{\\frac{\\rho g [h_1(t) - h_2(t)]}{G_f}}\n",
    "\\end{equation}\n",
    "\n",
    "- Escriba el flujo de salida $q_o$ del tanque TK2 como función del área del orificio de salida $A_o$, de su nivel de líquido $h_2$ y de la geometría del tanque.\n",
    "\n",
    "\\begin{equation}\n",
    "q_o = \\frac{A_o}{\\sqrt{1-(\\frac{A_o}{A_2})^2}}\\sqrt{2gh_2(t)} \n",
    "\\end{equation}\n",
    "\n",
    "- Escriba las ecuaciones de estado que describen la dinámica del sistema. Considere como variables de estado los niveles $h_2$ y $h_2$ de los tanques.\n",
    "\n",
    "\\begin{equation}\n",
    "    \\dot{h}_1(t) = \\frac{1}{A_1(h_1)}[q_i - C_v \\sqrt{\\frac{\\rho g [h_1(t) - h_2(t)]}{G_f}}]\n",
    "\\end{equation}\n",
    "\n",
    "\\begin{equation}\n",
    "    \\dot{h}_2(t) = \\frac{1}{A_2}[C_v \\sqrt{\\frac{\\rho g [h_1(t) - h_2(t)]}{G_f}} - \\frac{A_o}{\\sqrt{1-(\\frac{A_o}{A_2})^2}}\\sqrt{2gh_2(t)} ]\n",
    "\\end{equation}\n",
    "\n",
    "- Usando los valores mostrados en la [tabla](#paramstanquesinter), calcule el flujo $q_i$ necesario para estabilizar el tanque TK1 en un valor constante $\\bar{h}_1 = 0.5$ m. Obtenga el valor de $\\bar{h}_2$ en éste caso.\n",
    "\n",
    "Para hallar estos valores se debe hallar el punto de equilibrio de este sistema. Para hallarlo se igualan ambas derivadas a cero:\n",
    "\n",
    "\\begin{equation}\n",
    "    0 = \\frac{1}{A_1(h_1)} [q_{in}(t) - C_v \\sqrt{\\frac{\\rho g(\\bar{h_1} - \\bar{h_2})}{G_f}}]\n",
    "\\end{equation}\n",
    "\n",
    "\\begin{equation}\n",
    "    0 = \\frac{1}{A_2} [C_v \\sqrt{\\frac{\\rho g(\\bar{h_1} - \\bar{h_2})}{G_f}} - \\frac{A_0}{\\sqrt{1-(\\frac{A_0}{A_2})^2}}\\sqrt{2g\\bar{h_2}} ]\n",
    "\\end{equation}\n",
    "\n",
    "Luego se reemplazan los valores por aquellos dados en la tabla, y se despeja $\\bar{h_2}$ y $\\bar{q_i}$\n",
    "\n",
    "\\begin{equation}\n",
    "    0 = \\frac{1}{0,4141} [q_{in}(t) - (2,95\\times 10^{-6}) \\sqrt{\\frac{(1000)(9,81)(0,5 - \\bar{h_2})}{1}}]\n",
    "\\end{equation}\n",
    "\\begin{equation}\n",
    "    0 = \\frac{1}{A_2} [(2,95\\times 10^{-6}) \\sqrt{\\frac{(1000)(9,81)(0,5 - \\bar{h_2})}{1}} - \\frac{5,14\\times 10^{-5}}{\\sqrt{1-(\\frac{5,14\\times 10^{-5}}{0,2827})^2}}\\sqrt{2(9,81)\\bar{h_2}} ]\n",
    "\\end{equation}\n",
    "\n",
    "\\begin{equation}\n",
    "\\bar{h_2}=0,4654\n",
    "\\end{equation}\n",
    "\\begin{equation}\n",
    "\\bar{q_i}= 5,43\\times 10^{-5}\n",
    "\\end{equation}\n",
    "\n",
    "- Simule la respuesta del sistema para $q_i = \\bar{q}_i$, $h_1(0) = 0$, $h_2(0) = 0$. Verifique que que el sistema se estabilice en los valores calculados en el punto anterior."
   ]
  },
  {
   "cell_type": "markdown",
   "metadata": {},
   "source": [
    "<a name=\"paramstanquesinter\"></a>\n",
    "\n",
    "Parámetro | Valor   | Unidades\n",
    " :------: |  -----: | :------:\n",
    "$\\rho$    | 1000    | kg/m^3\n",
    "$g$       | 9.81    | m/s^2\n",
    "$G_f$     | 1.00    | \n",
    "$C_v$     | 2.95E-6 | m^3/s\n",
    "$R_1$     | 0.6     | m\n",
    "$L$       | 0.7     | m\n",
    "$R_2$     | 0.3     | m\n",
    "$A_o$     | 5.14E-5 | m^2"
   ]
  },
  {
   "cell_type": "code",
   "execution_count": 16,
   "metadata": {},
   "outputs": [],
   "source": [
    "def hydrsys_eq(t, h1,h2):    \n",
    "    A0 = 5.14e-5\n",
    "    rho = 1000\n",
    "    Cv = 2.95e-6\n",
    "    pa = 1.013e5\n",
    "    g = 9.807\n",
    "    r1 = 0.6\n",
    "    r2 = 0.3\n",
    "    L = 0.7\n",
    "    Gf =1\n",
    "    h1dot = 1/(L*math.sqrt(2*r1*h1 - h1**2)) * (5.43e-5 - Cv*math.sqrt((rho*g*(h1-h2))/Gf))\n",
    "    h2dot = (1/(pi*(r2**2))) * (Cv*math.sqrt((rho*g*(h1-h2))/Gf) - (A0/(1-(A0/A2)**2))*math.sqrt(2*g*h2))\n",
    "    return h1dot"
   ]
  },
  {
   "cell_type": "markdown",
   "metadata": {},
   "source": [
    "## 4. Diseño térmico de un transistor de potencia:\n",
    "Los dispositivos semiconductores de potencia requieren consideraciones especiales respecto a sus propiedades térmicas, para garantizar su operación dentro de los límites máximos permitidos de temperatura. Para ésto se estudian las propiedades estáticas y dinámicas de transferencia de calor. La primera [figura](#systherm1) muestra el modelo térmico básico, donde $P$ representa la potencia térmica disipada por el transistor, $\\theta_j$ la temperatura en la juntura del semiconductor, $\\theta_c$ la temperatura en el empaque del transistor, $\\theta_a$ la temperatura ambiente, $R_{jc}$ la resistencia térmica juntura-empaque y $R_{ca}$ la resistencia térmica empaque-ambiente.\n",
    "- Calcule la potencia máxima que puede disipar el transistor para temperaturas ambiente de $25^\\circ$C y $50^\\circ$C. Asuma que la temperatura máxima permitida para la juntura es $200^\\circ$C, $R_{jc}=1.17^\\circ$C/W, $R_{ca}=42.53^\\circ$C/W.\n",
    "\n",
    "Haciendo uso del modelo térmico, y usando un circuito eléctrico como analogía es posible reselver este ejercicio:\n",
    "\n",
    "\\begin{equation}\n",
    "    P = \\frac{\\theta_j - \\theta_c}{R_{jc}} = \\frac{\\theta_c - \\theta_a}{R_{ca}}\n",
    "\\end{equation}\n",
    "\n",
    "De esta ecuación, se despeja $\\theta_c$:\n",
    "\n",
    "\\begin{equation}\n",
    "    \\theta_c = \\frac{R_{ca}\\theta_j + \\theta_a R_{ca}}{R_{jc} + R_{ca}}\n",
    "\\end{equation}\n",
    "\n",
    "Reeemplazando los valores dados en el enunciado se tiene que:\n",
    "\n",
    "\\begin{equation}\n",
    "    \\theta_c = 195.31\n",
    "\\end{equation}\n",
    "\n",
    "Teniendo el valor de $\\theta_c$, puede hallarse el valor de P:\n",
    "\n",
    "\\begin{equation}\n",
    "    P = 4\n",
    "\\end{equation}\n",
    "\n",
    "- Calcule las temperaturas $\\theta_j$ y $\\theta_c$ si el transistor disipa $2$W a una temperatura ambiente de $35^\\circ$C.\n",
    "\n",
    "De la ecuación: \n",
    "\n",
    "\\begin{equation}\n",
    "    P = \\frac{\\theta_c - \\theta_a}{R_{ca}}\n",
    "\\end{equation}\n",
    "\n",
    "Se puede despejar $\\theta_c$, teniendo que:\n",
    "\n",
    "\\begin{equation}\n",
    "    \\theta_c = 120\n",
    "\\end{equation}\n",
    "\n",
    "Luego, de la ecuación\n",
    "\n",
    "\\begin{equation}\n",
    "    P = \\frac{\\theta_j - \\theta_c}{R_{jc}} \n",
    "\\end{equation}\n",
    "\n",
    "Se despeja $\\theta_j$, obteniendo que \n",
    "\n",
    "\\begin{equation}\n",
    "   \\theta_j = 122.34\n",
    "\\end{equation}\n",
    "\n"
   ]
  },
  {
   "cell_type": "markdown",
   "metadata": {},
   "source": [
    "<a name=\"systherm1\"></a>![systerm1](ThermalSys1.svg)"
   ]
  },
  {
   "cell_type": "markdown",
   "metadata": {},
   "source": [
    "Asuma que cuando se instala un disipador, la resistencia térmica $R_{ca}$ se duplica porque la mitad del área que estaba en contacto con el aire se halla ahora en contacto con el disipador. En éste caso el diagrama del sistema térmico obtenido se representa en la segunda [figura](#systherm2), donde $\\theta_s$ corresponde a la temperatura del disipador, $R_{cs}$ la resistencia térmica empaque-disipador y $R_{sa}$ la resistencia térmica disipador-ambiente. $R_{cs}$ se encuentra asociada al aislante eléctrico + grasa utilizados para instalar un disipador.\n",
    "\n",
    "- Determine la resistencia térmica máxima requerida si se desea mantener la temperatura de la juntura al menos $60^\\circ$C por debajo de su temperatura máxima permitida, con el transistor disipando $20$W. Asuma que la temperatura ambiente varía entre $15^\\circ$C y $40^\\circ$C, $R_{cs}=0.36^\\circ$C/W.\n",
    "\n",
    "Al igual que en el punto anterior, este se puede resolver como un circuito eléctrico\n",
    "\n",
    "Teniendo en cuenta que\n",
    "\n",
    "\\begin{equation}\n",
    "    20= \\frac{\\theta_j - \\theta_c}{R_{jc}}\n",
    "\\end{equation}\n",
    "\n",
    "Es posible hallar $\\theta_c$\n",
    "\n",
    "\\begin{equation}\n",
    "    \\theta_c = 116.6\n",
    "\\end{equation}\n",
    "\n",
    "Luego, se reemplaza el valor hallado en la siguiente ecuación\n",
    "\n",
    "\\begin{equation}\n",
    "    \\frac{\\theta_j - \\theta_c}{R_{jc}} = \\frac{\\theta_c - \\theta_a}{R_{ca}} + \\frac{\\theta_c - \\theta_s}{R_{cs}}\n",
    "\\end{equation}\n",
    "\n",
    "Para hallar $\\theta_s$, obteniendo que \n",
    "\n",
    "\\begin{equation}\n",
    "    \\theta_s = 110.26\n",
    "\\end{equation}\n",
    "\n",
    "Finalmente, se reemplaza el valor de $\\theta_s$ en la siguiente ecuación\n",
    "\n",
    "\\begin{equation}\n",
    "    \\frac{\\theta_c - \\theta_s}{R_{cs}} = \\frac{\\theta_s - \\theta_a}{R_{sa}} \n",
    "\\end{equation}\n",
    "\n",
    "Para hallar el valor de $R_{sa}$\n",
    "\n",
    "\\begin{equation}\n",
    "    R_{sa} = 5.4\n",
    "\\end{equation}\n",
    "\n",
    "- Asumiendo que se ha seleccionado un disipador con $R_{sa}=1.9^\\circ$C/W, determine $\\theta_j$, $\\theta_c$, $\\theta_s$ para una temperatura ambiente de $40^\\circ$C y disipación de $20$W.\n",
    "\n",
    "Utilizando la calculadora para resolver las ecuaciones, se obtuvo que \n",
    "\n",
    "\\begin{equation}\n",
    "    \\theta_c = 83\n",
    "\\end{equation}\n",
    "\\begin{equation}\n",
    "    \\theta_s = 76\n",
    "\\end{equation}\n",
    "\\begin{equation}\n",
    "    \\theta_j = 106.3\n",
    "\\end{equation}"
   ]
  },
  {
   "cell_type": "markdown",
   "metadata": {},
   "source": [
    "<a name=\"systherm2\"></a>![systherm2](ThermalSys2.svg)"
   ]
  },
  {
   "cell_type": "markdown",
   "metadata": {},
   "source": [
    "Ahora se desea disipar $80$W utilizando un conjunto de transistores de potencia $Q_1$, $Q_2$, $\\dots$, $Q_n$, instalados sobre el mismo disipador como se muestra en la siguiente [figura](#systherm3) (no se consideran en este caso las resistencias $R_{ca}$). Se requiere mantener sus temperaturas $\\theta_j$ $30^\\circ$C por debajo del valor máximo permitido. Se sabe que $\\theta_{jmax} = 150^\\circ$C, $R_{jc} = 1.67^\\circ$C/W, $R_{cs} = 1.6^\\circ$C/W. \n",
    "- Asumiendo que la temperatura $\\theta_s$ máxima deseada es $60^\\circ$C y que la temperatura ambiente puede variar entre $20^\\circ$C y $30^\\circ$C, calcule la máxima resistencia térmica $R_{ca}$ requerida para el disipador.\n",
    "- Calcule el número de transistores requeridos para disipar la potencia disponible."
   ]
  },
  {
   "cell_type": "markdown",
   "metadata": {},
   "source": [
    "<a name=\"systherm3\"></a>![systherm3](ThermalSys3.svg)"
   ]
  },
  {
   "cell_type": "markdown",
   "metadata": {},
   "source": [
    "## 5. Modelo de conducción de calor de una barra metálica:\n",
    "En la siguiente [figura](#conduc_bar) se muestra una barra metálica que es sometida a calentamiento en un extremo con una temperatura conocida $\\theta_i(t)$. La barra se encuentra totalmente aislada y únicamente se considera el fenómeno de transferencia de calor por conducción."
   ]
  },
  {
   "cell_type": "markdown",
   "metadata": {},
   "source": [
    "<a name=\"conduc_bar\"></a>![heated bar](heatedbar.svg)"
   ]
  },
  {
   "cell_type": "markdown",
   "metadata": {},
   "source": [
    "Para obtener un modelo de la conducción del calor a través de la barra, se define una capacitancia térmica $C$ que representa el almacenamiento de calor en el cuerpo de la barra, y una resistencia térmica $R$ que representa el fenómeno de conducción. Asumiendo que la temperatura $\\theta_1(t)$ a lo largo de toda la barra es uniforme, se obtiene el diagrama mostrado en [ésta figura](#conduc_bar1)."
   ]
  },
  {
   "cell_type": "markdown",
   "metadata": {},
   "source": [
    "<a name=\"conduc_bar1\"></a>![heated bar](heatedbar_approx1.svg)"
   ]
  },
  {
   "cell_type": "markdown",
   "metadata": {},
   "source": [
    "Sin embargo, dicha aproximación no es muy útil para para conocer la manera como se conduce el calor a lo largo de la barra. Por ésta razón se pueden realizar aproximaciones usando [2 elementos](#conduc_bar2), [3 elementos](#conduc_bar3) y así sucesivamente. En [ésta figura](#conduc_barn) se muestra el caso general de una partición en $n$ elementos."
   ]
  },
  {
   "cell_type": "markdown",
   "metadata": {},
   "source": [
    "<a name=\"conduc_bar2\"></a>![heated bar](heatedbar_approx2.svg)"
   ]
  },
  {
   "cell_type": "markdown",
   "metadata": {},
   "source": [
    "<a name=\"conduc_bar3\"></a>![heated bar](heatedbar_approx3.svg)"
   ]
  },
  {
   "cell_type": "markdown",
   "metadata": {},
   "source": [
    "<a name=\"conduc_barn\"></a>![heated bar](heatedbar_approxn.svg)"
   ]
  },
  {
   "cell_type": "markdown",
   "metadata": {},
   "source": [
    "- Plantee las ecuaciones que describen la dinámica del sistema para las aproximaciones de 1, 2 y 3 elementos. Obtenga el punto de equilibrio en cada caso.\n",
    "\n",
    "Para 1 elemento, la ecuación dinámica que describe el sistema es:\n",
    "\n",
    "\\begin{equation}\n",
    "    \\dot{\\theta}_1 = \\frac{1}{CR} (\\theta_i - \\theta_1)\n",
    "\\end{equation}\n",
    "\n",
    "Y su punto de equilibrio sería:\n",
    "\n",
    "\\begin{equation}\n",
    "    \\bar{\\theta_1} = \\bar{\\theta_i} \n",
    "\\end{equation}\n",
    "\n",
    "Para 2 elementos:\n",
    "\n",
    "\\begin{equation}\n",
    "    \\dot{\\theta}_1 = \\frac{4}{CR} [(\\theta_i - 2\\theta_1 + \\theta_2)] \n",
    "\\end{equation}\n",
    "\n",
    "\\begin{equation}\n",
    "    \\dot{\\theta}_2 = \\frac{4}{RC} (\\theta_1 - \\theta_2)\n",
    "\\end{equation}\n",
    "\n",
    "Su punto de equilibrio sería:\n",
    "\n",
    "\n",
    "\\begin{equation}\n",
    "    \\bar{\\theta_1} = \\bar{\\theta_i} \n",
    "\\end{equation}\n",
    "\n",
    "\\begin{equation}\n",
    "    \\bar{\\theta_2} = \\bar{\\theta_i} \n",
    "\\end{equation}\n",
    "\n",
    "Para 3 elementos: \n",
    "\n",
    "\\begin{equation}\n",
    "    \\dot{\\theta}_1 = \\frac{9}{CR} [(\\theta_i - 2\\theta_1+ \\theta_2)] \n",
    "\\end{equation}\n",
    "\n",
    "\\begin{equation}\n",
    "    \\dot{\\theta}_2 = \\frac{9}{CR} [(\\theta_1 - 2\\theta_2  + \\theta_3)] \n",
    "\\end{equation}\n",
    "\n",
    "\\begin{equation}\n",
    "    \\dot{\\theta}_3 = \\frac{9}{RC} (\\theta_2 - \\theta_3)\n",
    "\\end{equation}\n",
    "\n",
    "Su punto de equilibrio sería:\n",
    "\n",
    "\n",
    "\\begin{equation}\n",
    "    \\bar{\\theta_1} = \\bar{\\theta_i} \n",
    "\\end{equation}\n",
    "\n",
    "\\begin{equation}\n",
    "    \\bar{\\theta_2} = \\bar{\\theta_i} \n",
    "\\end{equation}\n",
    "\n",
    "\\begin{equation}\n",
    "    \\bar{\\theta_3} = \\bar{\\theta_i} \n",
    "\\end{equation}\n",
    "\n",
    "- Realice la simulación del sistema para las aproximaciones de 1, 2 y 3 elementos, asumiendo $R=1$, $C=1$, $\\theta_i=1$, $\\theta_1(0) = \\theta_2(0) = \\theta_3(0) =0$. Compare los resultados para los 3 casos y plantee sus conclusiones.\n",
    "\n",
    "Para realizar las simulaciones se utilizó el programa Matlab, se realizó un script donde se declararon las diferentes matrices y se graficaron los datos obtenidos con simulink. A continuación se mostrará el script y el diagrama de simulink, además de los resulatados obtenidos.\n",
    "\n",
    "Como se observa en las gráficas obtenidas, todas las secciones de la barra se estabilizan al llegar a la temperatura a la cual se está calentado el extremo de la barra, tal como se encontró de manera teórica.\n",
    "\n",
    "- Generalice las ecuaciones para el caso de la aproximación con $n$ elementos. ¿Cuál es el punto de equilibrio en éste caso?\n",
    "\n",
    "En el caso general, las ecuaciones dinámicas que describen el sistema con n elementos sería:\n",
    "\n",
    "\\begin{equation}\n",
    "    \\dot{\\theta}_1 = \\frac{n^2}{CR} [(\\theta_i - 2\\theta_1+ \\theta_2)] \n",
    "\\end{equation}\n",
    "\n",
    "\\begin{equation}\n",
    "    \\dot{\\theta}_2 = \\frac{n^2}{CR} [(\\theta_1 - 2\\theta_2  + \\theta_3)] \n",
    "\\end{equation}\n",
    "\n",
    "\\begin{equation}\n",
    "    \\dot{\\theta}_3 = \\frac{n^2}{RC} [(\\theta_2 - 2\\theta_3  + \\theta_4)] \n",
    "\\end{equation}\n",
    "\n",
    " Hasta\n",
    "\n",
    "\\begin{equation}\n",
    "    \\dot{\\theta}_n = \\frac{n^2}{RC} (\\theta_(n-1) - \\theta_n)\n",
    "\\end{equation}\n",
    "\n",
    "El punto de equilibrio sería:\n",
    "\n",
    "\\begin{equation}\n",
    "    \\bar{\\theta_1} = \\bar{\\theta_i} \n",
    "\\end{equation}\n",
    "\n",
    "\\begin{equation}\n",
    "    \\bar{\\theta_2} = \\bar{\\theta_i} \n",
    "\\end{equation}\n",
    "\n",
    "\\begin{equation}\n",
    "    \\bar{\\theta_3} = \\bar{\\theta_i} \n",
    "\\end{equation}\n",
    "\n",
    "Hasta\n",
    "\n",
    "\\begin{equation}\n",
    "    \\bar{\\theta_n} = \\bar{\\theta_i} \n",
    "\\end{equation}\n",
    "\n",
    "- **(Bonus +0.5 en el primer parcial)** Prepare un script para visualizar el proceso de transferencia de calor en la barra a través del tiempo. Para ésto, escriba una función que simule el comportamiento dinámico del sistema para un número arbitrario de segmentos (por ejemplo $n=100$). Una vez tenga la solución en el tiempo, dibuje la barra formada por los $n$ segmentos y para cada instante de tiempo asigne el color asociado a la temperatura para cada segmento (por ejemplo rojo para las temperaturas altas y azul para las temperaturas bajas como se muestra en [ésta figura](#conduc_bar)).\n"
   ]
  },
  {
   "cell_type": "code",
   "execution_count": 17,
   "metadata": {},
   "outputs": [
    {
     "ename": "SyntaxError",
     "evalue": "invalid syntax (<ipython-input-17-9d5087e51e3b>, line 1)",
     "output_type": "error",
     "traceback": [
      "\u001b[1;36m  File \u001b[1;32m\"<ipython-input-17-9d5087e51e3b>\"\u001b[1;36m, line \u001b[1;32m1\u001b[0m\n\u001b[1;33m    <a name=\"script_1\"></a>![script](script.jpg)\u001b[0m\n\u001b[1;37m    ^\u001b[0m\n\u001b[1;31mSyntaxError\u001b[0m\u001b[1;31m:\u001b[0m invalid syntax\n"
     ]
    }
   ],
   "source": [
    "<a name=\"script_1\"></a>![script](script.jpg)"
   ]
  },
  {
   "cell_type": "code",
   "execution_count": null,
   "metadata": {},
   "outputs": [],
   "source": [
    "<a name=\"simul\"></a>![simulink](simulink.jpg)"
   ]
  },
  {
   "cell_type": "code",
   "execution_count": null,
   "metadata": {},
   "outputs": [],
   "source": [
    "<a name=\"graf_1\"></a>![heated bar](Grafica1.jpg)"
   ]
  },
  {
   "cell_type": "code",
   "execution_count": null,
   "metadata": {},
   "outputs": [],
   "source": [
    "<a name=\"graf_2\"></a>![heated bar](Grafica2.jpg)"
   ]
  },
  {
   "cell_type": "code",
   "execution_count": null,
   "metadata": {},
   "outputs": [],
   "source": [
    "<a name=\"graf_3\"></a>![heated bar](Grafica3.jpg)"
   ]
  },
  {
   "cell_type": "markdown",
   "metadata": {},
   "source": [
    "## References\n",
    "- Close, C., Frederick, D., Newell, J. [Modeling and Analysis of Dynamic Systems](https://books.google.com.co/books?isbn=0471452963). 3rd Edition. Jonh Wiley & Sons, 2002.\n",
    "- Albarracin, J.A. [Ingeniería Detallada, Modelado y Simulación de un Sistema de Tanques Interactuantes No Lineales](https://repository.javeriana.edu.co/bitstream/handle/10554/7032/tesis478.pdf). Pontificia Universidad Javeriana, Facultad de Ingeniería, Bogotá D.C., 2010.\n",
    "- Ramirez, C.F. [Control de un Sistema de Tanques Interactuantes No Lineales Desde el Enfoque de Sistemas Dinámicos Híbridos](https://repository.javeriana.edu.co/bitstream/handle/10554/12729/RamirezAcostaChristianFelipe2012.pdf). Pontificia Universidad Javeriana, Facultad de Ingeniería, Bogotá D.C., 2012."
   ]
  }
 ],
 "metadata": {
  "kernelspec": {
   "display_name": "Python 3",
   "language": "python",
   "name": "python3"
  },
  "language_info": {
   "codemirror_mode": {
    "name": "ipython",
    "version": 3
   },
   "file_extension": ".py",
   "mimetype": "text/x-python",
   "name": "python",
   "nbconvert_exporter": "python",
   "pygments_lexer": "ipython3",
   "version": "3.6.4"
  }
 },
 "nbformat": 4,
 "nbformat_minor": 2
}
